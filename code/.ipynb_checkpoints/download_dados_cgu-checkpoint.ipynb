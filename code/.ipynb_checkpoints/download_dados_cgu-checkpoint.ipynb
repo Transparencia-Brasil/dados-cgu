{
 "cells": [
  {
   "cell_type": "markdown",
   "metadata": {},
   "source": [
    "## Setup"
   ]
  },
  {
   "cell_type": "code",
   "execution_count": 1,
   "metadata": {},
   "outputs": [],
   "source": [
    "import xml.etree.ElementTree as ET\n",
    "from lxml import etree\n",
    "import pandas as pandas\n",
    "import numpy as np\n",
    "from datetime import datetime, timedelta\n",
    "import glob as glob"
   ]
  },
  {
   "cell_type": "code",
   "execution_count": null,
   "metadata": {},
   "outputs": [],
   "source": []
  },
  {
   "cell_type": "markdown",
   "metadata": {},
   "source": [
    "## Data de atualização da base"
   ]
  },
  {
   "cell_type": "code",
   "execution_count": 2,
   "metadata": {},
   "outputs": [
    {
     "data": {
      "text/plain": [
       "'dia 05/08/2020 às 16:31:13'"
      ]
     },
     "execution_count": 2,
     "metadata": {},
     "output_type": "execute_result"
    }
   ],
   "source": [
    "datetime.today().strftime('dia %d/%m/%Y às %H:%M:%S')"
   ]
  },
  {
   "cell_type": "code",
   "execution_count": null,
   "metadata": {},
   "outputs": [],
   "source": []
  },
  {
   "cell_type": "markdown",
   "metadata": {},
   "source": [
    "## Pedidos"
   ]
  },
  {
   "cell_type": "markdown",
   "metadata": {},
   "source": [
    "Lista todas:"
   ]
  },
  {
   "cell_type": "code",
   "execution_count": 3,
   "metadata": {},
   "outputs": [
    {
     "data": {
      "text/plain": [
       "['..\\\\data-raw\\\\20200311_Pedidos_xml_2018.xml',\n",
       " '..\\\\data-raw\\\\20200801_Pedidos_xml_2016.xml',\n",
       " '..\\\\data-raw\\\\20200801_Pedidos_xml_2017.xml',\n",
       " '..\\\\data-raw\\\\20200801_Pedidos_xml_2019.xml',\n",
       " '..\\\\data-raw\\\\20200804_Pedidos_xml_2020.xml']"
      ]
     },
     "execution_count": 3,
     "metadata": {},
     "output_type": "execute_result"
    }
   ],
   "source": [
    "xmls = glob.glob('..\\\\data-raw/*Pedidos_xml*.xml')\n",
    "xmls"
   ]
  },
  {
   "cell_type": "markdown",
   "metadata": {},
   "source": [
    "Pega uma por uma:"
   ]
  },
  {
   "cell_type": "code",
   "execution_count": 4,
   "metadata": {},
   "outputs": [],
   "source": [
    "pedidos_xml_2016 = glob.glob('../data-raw/*Pedidos_xml_2016.xml')\n",
    "pedidos_xml_2017 = glob.glob('../data-raw/*Pedidos_xml_2017.xml')\n",
    "pedidos_xml_2018 = glob.glob('../data-raw/*Pedidos_xml_2018.xml')\n",
    "pedidos_xml_2019 = glob.glob('../data-raw/*Pedidos_xml_2019.xml')\n",
    "pedidos_xml_2020 = glob.glob('../data-raw/*Pedidos_xml_2020.xml')"
   ]
  },
  {
   "cell_type": "code",
   "execution_count": null,
   "metadata": {},
   "outputs": [],
   "source": []
  },
  {
   "cell_type": "markdown",
   "metadata": {},
   "source": [
    "### Pedidos - 2016"
   ]
  },
  {
   "cell_type": "code",
   "execution_count": 5,
   "metadata": {},
   "outputs": [
    {
     "name": "stdout",
     "output_type": "stream",
     "text": [
      "<class 'pandas.core.frame.DataFrame'>\n",
      "RangeIndex: 82658 entries, 0 to 82657\n",
      "Data columns (total 22 columns):\n",
      " #   Column                                Non-Null Count  Dtype \n",
      "---  ------                                --------------  ----- \n",
      " 0   IdPedido                              82658 non-null  object\n",
      " 1   ProtocoloPedido                       82658 non-null  object\n",
      " 2   OrgaoDestinatario                     82658 non-null  object\n",
      " 3   OrgaoSuperiorAssociadoaoDestinatario  40299 non-null  object\n",
      " 4   Situacao                              82658 non-null  object\n",
      " 5   DataRegistro                          82658 non-null  object\n",
      " 6   ResumoSolicitacao                     82658 non-null  object\n",
      " 7   DetalhamentoSolicitacao               82658 non-null  object\n",
      " 8   PrazoAtendimento                      82658 non-null  object\n",
      " 9   FoiProrrogado                         82658 non-null  object\n",
      " 10  FoiReencaminhado                      82658 non-null  object\n",
      " 11  FormaResposta                         82658 non-null  object\n",
      " 12  OrigemSolicitacao                     82658 non-null  object\n",
      " 13  IdSolicitante                         82658 non-null  object\n",
      " 14  CategoriaPedido                       82658 non-null  object\n",
      " 15  SubCategoriaPedido                    82658 non-null  object\n",
      " 16  NumeroPerguntas                       82658 non-null  object\n",
      " 17  DataResposta                          82658 non-null  object\n",
      " 18  Resposta                              82658 non-null  object\n",
      " 19  TipoResposta                          82658 non-null  object\n",
      " 20  ClassificacaoTipoResposta             82658 non-null  object\n",
      " 21  id_ano                                82658 non-null  object\n",
      "dtypes: object(22)\n",
      "memory usage: 13.9+ MB\n"
     ]
    }
   ],
   "source": [
    "for file_name in pedidos_xml_2016:\n",
    "    f = open(file_name, 'r', encoding='utf-16')\n",
    "\n",
    "xml_data = f.read()\n",
    "xml_data = xml_data.replace('&','')\n",
    "\n",
    "root = ET.XML(xml_data)\n",
    "pedidos = []\n",
    "for obj in list(root):\n",
    "    pedidos.append(obj.attrib)\n",
    "    \n",
    "df_2016 = pandas.DataFrame(pedidos)\n",
    "df_2016['id_ano']= df_2016['IdPedido']+'_2016'\n",
    "\n",
    "df_2016 = df_2016[['IdPedido', \n",
    "                   'ProtocoloPedido', \n",
    "                   'OrgaoDestinatario', \n",
    "                   'OrgaoSuperiorAssociadoaoDestinatario', \n",
    "                   'Situacao', \n",
    "                   'DataRegistro', \n",
    "                   'ResumoSolicitacao', \n",
    "                   'DetalhamentoSolicitacao', \n",
    "                   'PrazoAtendimento', \n",
    "                   'FoiProrrogado', \n",
    "                   'FoiReencaminhado', \n",
    "                   'FormaResposta', \n",
    "                   'OrigemSolicitacao', \n",
    "                   'IdSolicitante', \n",
    "                   'CategoriaPedido', \n",
    "                   'SubCategoriaPedido', \n",
    "                   'NumeroPerguntas', \n",
    "                   'DataResposta', \n",
    "                   'Resposta', \n",
    "                   'TipoResposta', \n",
    "                   'ClassificacaoTipoResposta', \n",
    "                   'id_ano']]\n",
    "\n",
    "\n",
    "df_2016.info()"
   ]
  },
  {
   "cell_type": "code",
   "execution_count": null,
   "metadata": {},
   "outputs": [],
   "source": [
    " "
   ]
  },
  {
   "cell_type": "markdown",
   "metadata": {},
   "source": [
    "### Pedidos - 2017"
   ]
  },
  {
   "cell_type": "code",
   "execution_count": 6,
   "metadata": {},
   "outputs": [
    {
     "name": "stdout",
     "output_type": "stream",
     "text": [
      "<class 'pandas.core.frame.DataFrame'>\n",
      "RangeIndex: 92736 entries, 0 to 92735\n",
      "Data columns (total 22 columns):\n",
      " #   Column                                Non-Null Count  Dtype \n",
      "---  ------                                --------------  ----- \n",
      " 0   IdPedido                              92736 non-null  object\n",
      " 1   ProtocoloPedido                       92736 non-null  object\n",
      " 2   OrgaoDestinatario                     92736 non-null  object\n",
      " 3   OrgaoSuperiorAssociadoaoDestinatario  48594 non-null  object\n",
      " 4   Situacao                              92736 non-null  object\n",
      " 5   DataRegistro                          92736 non-null  object\n",
      " 6   ResumoSolicitacao                     92736 non-null  object\n",
      " 7   DetalhamentoSolicitacao               92736 non-null  object\n",
      " 8   PrazoAtendimento                      92736 non-null  object\n",
      " 9   FoiProrrogado                         92736 non-null  object\n",
      " 10  FoiReencaminhado                      92736 non-null  object\n",
      " 11  FormaResposta                         92736 non-null  object\n",
      " 12  OrigemSolicitacao                     92736 non-null  object\n",
      " 13  IdSolicitante                         92736 non-null  object\n",
      " 14  CategoriaPedido                       92736 non-null  object\n",
      " 15  SubCategoriaPedido                    92736 non-null  object\n",
      " 16  NumeroPerguntas                       92736 non-null  object\n",
      " 17  DataResposta                          92736 non-null  object\n",
      " 18  Resposta                              92736 non-null  object\n",
      " 19  TipoResposta                          92736 non-null  object\n",
      " 20  ClassificacaoTipoResposta             92736 non-null  object\n",
      " 21  id_ano                                92736 non-null  object\n",
      "dtypes: object(22)\n",
      "memory usage: 15.6+ MB\n"
     ]
    }
   ],
   "source": [
    "for file_name in pedidos_xml_2017:\n",
    "    f = open(file_name, 'r', encoding='utf-16')\n",
    "    \n",
    "xml_data = f.read()\n",
    "xml_data = xml_data.replace('&','')\n",
    "\n",
    "root = ET.XML(xml_data)\n",
    "pedidos = []\n",
    "for obj in list(root):\n",
    "    pedidos.append(obj.attrib)\n",
    "    \n",
    "df_2017 = pandas.DataFrame(pedidos)\n",
    "df_2017['id_ano']= df_2017['IdPedido']+'_2017'\n",
    "\n",
    "df_2017 = df_2017[['IdPedido', \n",
    "                   'ProtocoloPedido', \n",
    "                   'OrgaoDestinatario', \n",
    "                   'OrgaoSuperiorAssociadoaoDestinatario', \n",
    "                   'Situacao', \n",
    "                   'DataRegistro', \n",
    "                   'ResumoSolicitacao', \n",
    "                   'DetalhamentoSolicitacao', \n",
    "                   'PrazoAtendimento', \n",
    "                   'FoiProrrogado', \n",
    "                   'FoiReencaminhado', \n",
    "                   'FormaResposta', \n",
    "                   'OrigemSolicitacao', \n",
    "                   'IdSolicitante', \n",
    "                   'CategoriaPedido', \n",
    "                   'SubCategoriaPedido', \n",
    "                   'NumeroPerguntas', \n",
    "                   'DataResposta', \n",
    "                   'Resposta', \n",
    "                   'TipoResposta', \n",
    "                   'ClassificacaoTipoResposta', \n",
    "                   'id_ano']]\n",
    "\n",
    "df_2017.info()"
   ]
  },
  {
   "cell_type": "code",
   "execution_count": null,
   "metadata": {},
   "outputs": [],
   "source": []
  },
  {
   "cell_type": "markdown",
   "metadata": {},
   "source": [
    "### Pedidos - 2018"
   ]
  },
  {
   "cell_type": "code",
   "execution_count": 7,
   "metadata": {},
   "outputs": [
    {
     "name": "stdout",
     "output_type": "stream",
     "text": [
      "<class 'pandas.core.frame.DataFrame'>\n",
      "RangeIndex: 95627 entries, 0 to 95626\n",
      "Data columns (total 22 columns):\n",
      " #   Column                                Non-Null Count  Dtype \n",
      "---  ------                                --------------  ----- \n",
      " 0   IdPedido                              95627 non-null  object\n",
      " 1   ProtocoloPedido                       95627 non-null  object\n",
      " 2   OrgaoDestinatario                     95627 non-null  object\n",
      " 3   OrgaoSuperiorAssociadoaoDestinatario  50812 non-null  object\n",
      " 4   Situacao                              95627 non-null  object\n",
      " 5   DataRegistro                          95627 non-null  object\n",
      " 6   ResumoSolicitacao                     95627 non-null  object\n",
      " 7   DetalhamentoSolicitacao               95627 non-null  object\n",
      " 8   PrazoAtendimento                      95627 non-null  object\n",
      " 9   FoiProrrogado                         95627 non-null  object\n",
      " 10  FoiReencaminhado                      95627 non-null  object\n",
      " 11  FormaResposta                         95627 non-null  object\n",
      " 12  OrigemSolicitacao                     95627 non-null  object\n",
      " 13  IdSolicitante                         95627 non-null  object\n",
      " 14  CategoriaPedido                       95627 non-null  object\n",
      " 15  SubCategoriaPedido                    95627 non-null  object\n",
      " 16  NumeroPerguntas                       95627 non-null  object\n",
      " 17  DataResposta                          95627 non-null  object\n",
      " 18  Resposta                              95627 non-null  object\n",
      " 19  TipoResposta                          95627 non-null  object\n",
      " 20  ClassificacaoTipoResposta             95627 non-null  object\n",
      " 21  id_ano                                95627 non-null  object\n",
      "dtypes: object(22)\n",
      "memory usage: 16.1+ MB\n"
     ]
    }
   ],
   "source": [
    "for file_name in pedidos_xml_2018:\n",
    "    f = open(file_name, 'r', encoding='utf-16')\n",
    "    \n",
    "xml_data = f.read()\n",
    "xml_data = xml_data.replace('&','')\n",
    "\n",
    "root = ET.XML(xml_data)\n",
    "pedidos = []\n",
    "for obj in list(root):\n",
    "    pedidos.append(obj.attrib)\n",
    "    \n",
    "df_2018 = pandas.DataFrame(pedidos)\n",
    "df_2018['id_ano']= df_2018['IdPedido']+'_2018'\n",
    "\n",
    "df_2018 = df_2018[['IdPedido', \n",
    "                   'ProtocoloPedido', \n",
    "                   'OrgaoDestinatario', \n",
    "                   'OrgaoSuperiorAssociadoaoDestinatario', \n",
    "                   'Situacao', \n",
    "                   'DataRegistro', \n",
    "                   'ResumoSolicitacao', \n",
    "                   'DetalhamentoSolicitacao', \n",
    "                   'PrazoAtendimento', \n",
    "                   'FoiProrrogado', \n",
    "                   'FoiReencaminhado', \n",
    "                   'FormaResposta', \n",
    "                   'OrigemSolicitacao', \n",
    "                   'IdSolicitante', \n",
    "                   'CategoriaPedido', \n",
    "                   'SubCategoriaPedido', \n",
    "                   'NumeroPerguntas', \n",
    "                   'DataResposta', \n",
    "                   'Resposta', \n",
    "                   'TipoResposta', \n",
    "                   'ClassificacaoTipoResposta', \n",
    "                   'id_ano']]\n",
    "\n",
    "df_2018.info()"
   ]
  },
  {
   "cell_type": "code",
   "execution_count": null,
   "metadata": {},
   "outputs": [],
   "source": []
  },
  {
   "cell_type": "markdown",
   "metadata": {},
   "source": [
    "### Pedidos - 2019"
   ]
  },
  {
   "cell_type": "code",
   "execution_count": 8,
   "metadata": {},
   "outputs": [
    {
     "name": "stdout",
     "output_type": "stream",
     "text": [
      "<class 'pandas.core.frame.DataFrame'>\n",
      "RangeIndex: 102193 entries, 0 to 102192\n",
      "Data columns (total 22 columns):\n",
      " #   Column                                Non-Null Count   Dtype \n",
      "---  ------                                --------------   ----- \n",
      " 0   IdPedido                              102193 non-null  object\n",
      " 1   ProtocoloPedido                       102193 non-null  object\n",
      " 2   OrgaoDestinatario                     102193 non-null  object\n",
      " 3   OrgaoSuperiorAssociadoaoDestinatario  56707 non-null   object\n",
      " 4   Situacao                              102193 non-null  object\n",
      " 5   DataRegistro                          102193 non-null  object\n",
      " 6   ResumoSolicitacao                     102193 non-null  object\n",
      " 7   DetalhamentoSolicitacao               102193 non-null  object\n",
      " 8   PrazoAtendimento                      102193 non-null  object\n",
      " 9   FoiProrrogado                         102193 non-null  object\n",
      " 10  FoiReencaminhado                      102193 non-null  object\n",
      " 11  FormaResposta                         102193 non-null  object\n",
      " 12  OrigemSolicitacao                     102193 non-null  object\n",
      " 13  IdSolicitante                         102193 non-null  object\n",
      " 14  CategoriaPedido                       102193 non-null  object\n",
      " 15  SubCategoriaPedido                    102193 non-null  object\n",
      " 16  NumeroPerguntas                       102193 non-null  object\n",
      " 17  DataResposta                          102193 non-null  object\n",
      " 18  Resposta                              102193 non-null  object\n",
      " 19  TipoResposta                          102193 non-null  object\n",
      " 20  ClassificacaoTipoResposta             102193 non-null  object\n",
      " 21  id_ano                                102193 non-null  object\n",
      "dtypes: object(22)\n",
      "memory usage: 17.2+ MB\n"
     ]
    }
   ],
   "source": [
    "for file_name in pedidos_xml_2019:\n",
    "    f = open(file_name, 'r', encoding='utf-16')\n",
    "    \n",
    "xml_data = f.read()\n",
    "xml_data = xml_data.replace('&','')\n",
    "\n",
    "root = ET.XML(xml_data)\n",
    "pedidos = []\n",
    "for obj in list(root):\n",
    "    pedidos.append(obj.attrib)\n",
    "    \n",
    "df_2019 = pandas.DataFrame(pedidos)\n",
    "df_2019['id_ano']= df_2019['IdPedido']+'_2019'\n",
    "\n",
    "df_2019 = df_2019[['IdPedido', \n",
    "                   'ProtocoloPedido', \n",
    "                   'OrgaoDestinatario', \n",
    "                   'OrgaoSuperiorAssociadoaoDestinatario', \n",
    "                   'Situacao', \n",
    "                   'DataRegistro', \n",
    "                   'ResumoSolicitacao', \n",
    "                   'DetalhamentoSolicitacao', \n",
    "                   'PrazoAtendimento', \n",
    "                   'FoiProrrogado', \n",
    "                   'FoiReencaminhado', \n",
    "                   'FormaResposta', \n",
    "                   'OrigemSolicitacao', \n",
    "                   'IdSolicitante', \n",
    "                   'CategoriaPedido', \n",
    "                   'SubCategoriaPedido', \n",
    "                   'NumeroPerguntas', \n",
    "                   'DataResposta', \n",
    "                   'Resposta', \n",
    "                   'TipoResposta', \n",
    "                   'ClassificacaoTipoResposta', \n",
    "                   'id_ano']]\n",
    "\n",
    "\n",
    "df_2019.info()"
   ]
  },
  {
   "cell_type": "code",
   "execution_count": null,
   "metadata": {},
   "outputs": [],
   "source": []
  },
  {
   "cell_type": "markdown",
   "metadata": {},
   "source": [
    "### Pedidos - 2020"
   ]
  },
  {
   "cell_type": "code",
   "execution_count": 9,
   "metadata": {},
   "outputs": [
    {
     "name": "stdout",
     "output_type": "stream",
     "text": [
      "<class 'pandas.core.frame.DataFrame'>\n",
      "RangeIndex: 72274 entries, 0 to 72273\n",
      "Data columns (total 22 columns):\n",
      " #   Column                                Non-Null Count  Dtype \n",
      "---  ------                                --------------  ----- \n",
      " 0   IdPedido                              72274 non-null  object\n",
      " 1   ProtocoloPedido                       72274 non-null  object\n",
      " 2   OrgaoDestinatario                     72274 non-null  object\n",
      " 3   OrgaoSuperiorAssociadoaoDestinatario  33320 non-null  object\n",
      " 4   Situacao                              72274 non-null  object\n",
      " 5   DataRegistro                          72274 non-null  object\n",
      " 6   ResumoSolicitacao                     72274 non-null  object\n",
      " 7   DetalhamentoSolicitacao               72274 non-null  object\n",
      " 8   PrazoAtendimento                      72274 non-null  object\n",
      " 9   FoiProrrogado                         72274 non-null  object\n",
      " 10  FoiReencaminhado                      72274 non-null  object\n",
      " 11  FormaResposta                         72274 non-null  object\n",
      " 12  OrigemSolicitacao                     72274 non-null  object\n",
      " 13  IdSolicitante                         72274 non-null  object\n",
      " 14  CategoriaPedido                       72274 non-null  object\n",
      " 15  SubCategoriaPedido                    72274 non-null  object\n",
      " 16  NumeroPerguntas                       72274 non-null  object\n",
      " 17  DataResposta                          72274 non-null  object\n",
      " 18  Resposta                              72274 non-null  object\n",
      " 19  TipoResposta                          72274 non-null  object\n",
      " 20  ClassificacaoTipoResposta             72274 non-null  object\n",
      " 21  id_ano                                72274 non-null  object\n",
      "dtypes: object(22)\n",
      "memory usage: 12.1+ MB\n"
     ]
    }
   ],
   "source": [
    "for file_name in pedidos_xml_2020:\n",
    "    f = open(file_name, 'r', encoding='utf-16')\n",
    "    \n",
    "xml_data = f.read()\n",
    "xml_data = xml_data.replace('&','')\n",
    "\n",
    "root = ET.XML(xml_data)\n",
    "pedidos = []\n",
    "for obj in list(root):\n",
    "    pedidos.append(obj.attrib)\n",
    "    \n",
    "df_2020 = pandas.DataFrame(pedidos)\n",
    "df_2020['id_ano']= df_2020['IdPedido']+'_2020'\n",
    "\n",
    "df_2020 = df_2020[['IdPedido', \n",
    "                   'ProtocoloPedido', \n",
    "                   'OrgaoDestinatario', \n",
    "                   'OrgaoSuperiorAssociadoaoDestinatario', \n",
    "                   'Situacao', \n",
    "                   'DataRegistro', \n",
    "                   'ResumoSolicitacao', \n",
    "                   'DetalhamentoSolicitacao', \n",
    "                   'PrazoAtendimento', \n",
    "                   'FoiProrrogado', \n",
    "                   'FoiReencaminhado', \n",
    "                   'FormaResposta', \n",
    "                   'OrigemSolicitacao', \n",
    "                   'IdSolicitante', \n",
    "                   'CategoriaPedido', \n",
    "                   'SubCategoriaPedido', \n",
    "                   'NumeroPerguntas', \n",
    "                   'DataResposta', \n",
    "                   'Resposta', \n",
    "                   'TipoResposta', \n",
    "                   'ClassificacaoTipoResposta', \n",
    "                   'id_ano']]\n",
    "\n",
    "\n",
    "df_2020.info()"
   ]
  },
  {
   "cell_type": "code",
   "execution_count": null,
   "metadata": {},
   "outputs": [],
   "source": []
  },
  {
   "cell_type": "markdown",
   "metadata": {},
   "source": [
    "### `xml` to `csv` em Pedidos"
   ]
  },
  {
   "cell_type": "code",
   "execution_count": 10,
   "metadata": {},
   "outputs": [],
   "source": [
    "frames = [df_2016, df_2017, df_2018, df_2019, df_2020]"
   ]
  },
  {
   "cell_type": "code",
   "execution_count": 11,
   "metadata": {},
   "outputs": [],
   "source": [
    "df_total = pandas.concat(frames)"
   ]
  },
  {
   "cell_type": "code",
   "execution_count": 12,
   "metadata": {},
   "outputs": [
    {
     "name": "stdout",
     "output_type": "stream",
     "text": [
      "<class 'pandas.core.frame.DataFrame'>\n",
      "Int64Index: 445488 entries, 0 to 72273\n",
      "Data columns (total 22 columns):\n",
      " #   Column                                Non-Null Count   Dtype \n",
      "---  ------                                --------------   ----- \n",
      " 0   IdPedido                              445488 non-null  object\n",
      " 1   ProtocoloPedido                       445488 non-null  object\n",
      " 2   OrgaoDestinatario                     445488 non-null  object\n",
      " 3   OrgaoSuperiorAssociadoaoDestinatario  229732 non-null  object\n",
      " 4   Situacao                              445488 non-null  object\n",
      " 5   DataRegistro                          445488 non-null  object\n",
      " 6   ResumoSolicitacao                     445488 non-null  object\n",
      " 7   DetalhamentoSolicitacao               445488 non-null  object\n",
      " 8   PrazoAtendimento                      445488 non-null  object\n",
      " 9   FoiProrrogado                         445488 non-null  object\n",
      " 10  FoiReencaminhado                      445488 non-null  object\n",
      " 11  FormaResposta                         445488 non-null  object\n",
      " 12  OrigemSolicitacao                     445488 non-null  object\n",
      " 13  IdSolicitante                         445488 non-null  object\n",
      " 14  CategoriaPedido                       445488 non-null  object\n",
      " 15  SubCategoriaPedido                    445488 non-null  object\n",
      " 16  NumeroPerguntas                       445488 non-null  object\n",
      " 17  DataResposta                          445488 non-null  object\n",
      " 18  Resposta                              445488 non-null  object\n",
      " 19  TipoResposta                          445488 non-null  object\n",
      " 20  ClassificacaoTipoResposta             445488 non-null  object\n",
      " 21  id_ano                                445488 non-null  object\n",
      "dtypes: object(22)\n",
      "memory usage: 78.2+ MB\n"
     ]
    }
   ],
   "source": [
    "df_total.info()"
   ]
  },
  {
   "cell_type": "code",
   "execution_count": 13,
   "metadata": {},
   "outputs": [],
   "source": [
    "df_total.to_csv(\"../data-raw/pedidos_cgu.csv\", index=False) "
   ]
  },
  {
   "cell_type": "code",
   "execution_count": null,
   "metadata": {},
   "outputs": [],
   "source": []
  },
  {
   "cell_type": "markdown",
   "metadata": {},
   "source": [
    "### Carrega Total - Pedidos"
   ]
  },
  {
   "cell_type": "code",
   "execution_count": 15,
   "metadata": {},
   "outputs": [],
   "source": [
    "kwargs = {'sep': ',', 'dtype': str, 'encoding': 'utf-8'}\n",
    "df_total = pandas.read_csv(\"../data-raw/pedidos_cgu.csv\", **kwargs)"
   ]
  },
  {
   "cell_type": "code",
   "execution_count": 16,
   "metadata": {},
   "outputs": [
    {
     "name": "stdout",
     "output_type": "stream",
     "text": [
      "<class 'pandas.core.frame.DataFrame'>\n",
      "RangeIndex: 445488 entries, 0 to 445487\n",
      "Data columns (total 22 columns):\n",
      " #   Column                                Non-Null Count   Dtype \n",
      "---  ------                                --------------   ----- \n",
      " 0   IdPedido                              445488 non-null  object\n",
      " 1   ProtocoloPedido                       445488 non-null  object\n",
      " 2   OrgaoDestinatario                     445488 non-null  object\n",
      " 3   OrgaoSuperiorAssociadoaoDestinatario  229732 non-null  object\n",
      " 4   Situacao                              445488 non-null  object\n",
      " 5   DataRegistro                          445488 non-null  object\n",
      " 6   ResumoSolicitacao                     445485 non-null  object\n",
      " 7   DetalhamentoSolicitacao               445484 non-null  object\n",
      " 8   PrazoAtendimento                      445488 non-null  object\n",
      " 9   FoiProrrogado                         445488 non-null  object\n",
      " 10  FoiReencaminhado                      445488 non-null  object\n",
      " 11  FormaResposta                         445488 non-null  object\n",
      " 12  OrigemSolicitacao                     445488 non-null  object\n",
      " 13  IdSolicitante                         445488 non-null  object\n",
      " 14  CategoriaPedido                       445488 non-null  object\n",
      " 15  SubCategoriaPedido                    445488 non-null  object\n",
      " 16  NumeroPerguntas                       445488 non-null  object\n",
      " 17  DataResposta                          445488 non-null  object\n",
      " 18  Resposta                              445483 non-null  object\n",
      " 19  TipoResposta                          445488 non-null  object\n",
      " 20  ClassificacaoTipoResposta             399993 non-null  object\n",
      " 21  id_ano                                445488 non-null  object\n",
      "dtypes: object(22)\n",
      "memory usage: 74.8+ MB\n"
     ]
    }
   ],
   "source": [
    "df_total.info()"
   ]
  },
  {
   "cell_type": "markdown",
   "metadata": {},
   "source": [
    "## Recursos"
   ]
  },
  {
   "cell_type": "markdown",
   "metadata": {},
   "source": [
    "Lista todos arquivos"
   ]
  },
  {
   "cell_type": "code",
   "execution_count": 18,
   "metadata": {},
   "outputs": [
    {
     "data": {
      "text/plain": [
       "['../data-raw\\\\20200311_Recursos_xml_2018.xml',\n",
       " '../data-raw\\\\20200801_Recursos_xml_2016.xml',\n",
       " '../data-raw\\\\20200801_Recursos_xml_2017.xml',\n",
       " '../data-raw\\\\20200801_Recursos_xml_2019.xml',\n",
       " '../data-raw\\\\20200804_Recursos_xml_2020.xml']"
      ]
     },
     "execution_count": 18,
     "metadata": {},
     "output_type": "execute_result"
    }
   ],
   "source": [
    "xmls = glob.glob('../data-raw/*Recursos_xml*.xml')\n",
    "xmls"
   ]
  },
  {
   "cell_type": "code",
   "execution_count": 19,
   "metadata": {},
   "outputs": [],
   "source": [
    "recursos_xml_2016 = glob.glob('../data-raw/*Recursos_xml_2016*.xml')\n",
    "recursos_xml_2017 = glob.glob('../data-raw/*Recursos_xml_2017*.xml')\n",
    "recursos_xml_2018 = glob.glob('../data-raw/*Recursos_xml_2018*.xml')\n",
    "recursos_xml_2019 = glob.glob('../data-raw/*Recursos_xml_2019*.xml')\n",
    "recursos_xml_2020 = glob.glob('../data-raw/*Recursos_xml_2020*.xml')"
   ]
  },
  {
   "cell_type": "markdown",
   "metadata": {},
   "source": [
    "### Recursos - 2016"
   ]
  },
  {
   "cell_type": "code",
   "execution_count": 20,
   "metadata": {},
   "outputs": [
    {
     "name": "stdout",
     "output_type": "stream",
     "text": [
      "<class 'pandas.core.frame.DataFrame'>\n",
      "RangeIndex: 8111 entries, 0 to 8110\n",
      "Data columns (total 18 columns):\n",
      " #   Column                                Non-Null Count  Dtype \n",
      "---  ------                                --------------  ----- \n",
      " 0   IdRecurso                             8111 non-null   object\n",
      " 1   DescRecurso                           8111 non-null   object\n",
      " 2   RespostaRecurso                       8111 non-null   object\n",
      " 3   IdPedido                              8111 non-null   object\n",
      " 4   IdSolicitante                         8111 non-null   object\n",
      " 5   ProtocoloPedido                       8111 non-null   object\n",
      " 6   OrgaoDestinatario                     8111 non-null   object\n",
      " 7   Instancia                             8111 non-null   object\n",
      " 8   Situacao                              8111 non-null   object\n",
      " 9   DataRegistro                          8111 non-null   object\n",
      " 10  PrazoAtendimento                      7840 non-null   object\n",
      " 11  OrigemSolicitacao                     8111 non-null   object\n",
      " 12  TipoRecurso                           8111 non-null   object\n",
      " 13  DataResposta                          8111 non-null   object\n",
      " 14  TipoResposta                          8111 non-null   object\n",
      " 15  IdRecursoPrecedente                   2655 non-null   object\n",
      " 16  OrgaoSuperiorAssociadoaoDestinatario  3257 non-null   object\n",
      " 17  id_ano                                8111 non-null   object\n",
      "dtypes: object(18)\n",
      "memory usage: 1.1+ MB\n"
     ]
    }
   ],
   "source": [
    "for file_name in recursos_xml_2016:\n",
    "    f = open(file_name, 'r', encoding='utf-16')\n",
    "\n",
    "xml_data = f.read()\n",
    "xml_data = xml_data.replace('&','')\n",
    "\n",
    "root = ET.XML(xml_data)\n",
    "recursos = []\n",
    "for obj in list(root):\n",
    "    recursos.append(obj.attrib)\n",
    "    \n",
    "df_2016_recursos = pandas.DataFrame(recursos)\n",
    "df_2016_recursos['id_ano']= df_2016_recursos['IdPedido']+'_2016'\n",
    "df_2016_recursos.info()"
   ]
  },
  {
   "cell_type": "code",
   "execution_count": null,
   "metadata": {},
   "outputs": [],
   "source": []
  },
  {
   "cell_type": "markdown",
   "metadata": {},
   "source": [
    "### Recursos - 2017"
   ]
  },
  {
   "cell_type": "code",
   "execution_count": 21,
   "metadata": {},
   "outputs": [
    {
     "name": "stdout",
     "output_type": "stream",
     "text": [
      "<class 'pandas.core.frame.DataFrame'>\n",
      "RangeIndex: 10165 entries, 0 to 10164\n",
      "Data columns (total 18 columns):\n",
      " #   Column                                Non-Null Count  Dtype \n",
      "---  ------                                --------------  ----- \n",
      " 0   IdRecurso                             10165 non-null  object\n",
      " 1   DescRecurso                           10165 non-null  object\n",
      " 2   RespostaRecurso                       10165 non-null  object\n",
      " 3   IdPedido                              10165 non-null  object\n",
      " 4   IdSolicitante                         10165 non-null  object\n",
      " 5   ProtocoloPedido                       10165 non-null  object\n",
      " 6   OrgaoDestinatario                     10165 non-null  object\n",
      " 7   Instancia                             10165 non-null  object\n",
      " 8   Situacao                              10165 non-null  object\n",
      " 9   DataRegistro                          10165 non-null  object\n",
      " 10  PrazoAtendimento                      9905 non-null   object\n",
      " 11  OrigemSolicitacao                     10165 non-null  object\n",
      " 12  TipoRecurso                           10165 non-null  object\n",
      " 13  DataResposta                          10165 non-null  object\n",
      " 14  TipoResposta                          10162 non-null  object\n",
      " 15  IdRecursoPrecedente                   3461 non-null   object\n",
      " 16  OrgaoSuperiorAssociadoaoDestinatario  4662 non-null   object\n",
      " 17  id_ano                                10165 non-null  object\n",
      "dtypes: object(18)\n",
      "memory usage: 1.4+ MB\n"
     ]
    }
   ],
   "source": [
    "for file_name in recursos_xml_2017:\n",
    "    f = open(file_name, 'r', encoding='utf-16')\n",
    "\n",
    "xml_data = f.read()\n",
    "xml_data = xml_data.replace('&','')\n",
    "\n",
    "root = ET.XML(xml_data)\n",
    "recursos = []\n",
    "for obj in list(root):\n",
    "    recursos.append(obj.attrib)\n",
    "    \n",
    "df_2017_recursos = pandas.DataFrame(recursos)\n",
    "df_2017_recursos['id_ano']= df_2017_recursos['IdPedido']+'_2017'\n",
    "df_2017_recursos.info()"
   ]
  },
  {
   "cell_type": "code",
   "execution_count": null,
   "metadata": {},
   "outputs": [],
   "source": []
  },
  {
   "cell_type": "markdown",
   "metadata": {},
   "source": [
    "### Recursos - 2018"
   ]
  },
  {
   "cell_type": "code",
   "execution_count": 22,
   "metadata": {},
   "outputs": [
    {
     "name": "stdout",
     "output_type": "stream",
     "text": [
      "<class 'pandas.core.frame.DataFrame'>\n",
      "RangeIndex: 10162 entries, 0 to 10161\n",
      "Data columns (total 18 columns):\n",
      " #   Column                                Non-Null Count  Dtype \n",
      "---  ------                                --------------  ----- \n",
      " 0   IdRecurso                             10162 non-null  object\n",
      " 1   DescRecurso                           10162 non-null  object\n",
      " 2   RespostaRecurso                       10162 non-null  object\n",
      " 3   IdPedido                              10162 non-null  object\n",
      " 4   IdSolicitante                         10162 non-null  object\n",
      " 5   ProtocoloPedido                       10162 non-null  object\n",
      " 6   OrgaoDestinatario                     10162 non-null  object\n",
      " 7   Instancia                             10162 non-null  object\n",
      " 8   Situacao                              10162 non-null  object\n",
      " 9   DataRegistro                          10162 non-null  object\n",
      " 10  PrazoAtendimento                      9895 non-null   object\n",
      " 11  OrigemSolicitacao                     10162 non-null  object\n",
      " 12  TipoRecurso                           10162 non-null  object\n",
      " 13  DataResposta                          10162 non-null  object\n",
      " 14  TipoResposta                          10159 non-null  object\n",
      " 15  IdRecursoPrecedente                   3263 non-null   object\n",
      " 16  OrgaoSuperiorAssociadoaoDestinatario  4518 non-null   object\n",
      " 17  id_ano                                10162 non-null  object\n",
      "dtypes: object(18)\n",
      "memory usage: 1.4+ MB\n"
     ]
    }
   ],
   "source": [
    "for file_name in recursos_xml_2018:\n",
    "    f = open(file_name, 'r', encoding='utf-16')\n",
    "\n",
    "xml_data = f.read()\n",
    "xml_data = xml_data.replace('&','')\n",
    "\n",
    "root = ET.XML(xml_data)\n",
    "recursos = []\n",
    "for obj in list(root):\n",
    "    recursos.append(obj.attrib)\n",
    "    \n",
    "df_2018_recursos = pandas.DataFrame(recursos)\n",
    "df_2018_recursos['id_ano']= df_2018_recursos['IdPedido']+'_2018'\n",
    "df_2018_recursos.info()"
   ]
  },
  {
   "cell_type": "code",
   "execution_count": null,
   "metadata": {},
   "outputs": [],
   "source": []
  },
  {
   "cell_type": "markdown",
   "metadata": {},
   "source": [
    "### Recursos - 2019"
   ]
  },
  {
   "cell_type": "code",
   "execution_count": 23,
   "metadata": {},
   "outputs": [
    {
     "name": "stdout",
     "output_type": "stream",
     "text": [
      "<class 'pandas.core.frame.DataFrame'>\n",
      "RangeIndex: 11498 entries, 0 to 11497\n",
      "Data columns (total 18 columns):\n",
      " #   Column                                Non-Null Count  Dtype \n",
      "---  ------                                --------------  ----- \n",
      " 0   IdRecurso                             11498 non-null  object\n",
      " 1   DescRecurso                           11498 non-null  object\n",
      " 2   RespostaRecurso                       11498 non-null  object\n",
      " 3   IdPedido                              11498 non-null  object\n",
      " 4   IdSolicitante                         11498 non-null  object\n",
      " 5   ProtocoloPedido                       11498 non-null  object\n",
      " 6   OrgaoDestinatario                     11498 non-null  object\n",
      " 7   Instancia                             11498 non-null  object\n",
      " 8   Situacao                              11498 non-null  object\n",
      " 9   DataRegistro                          11498 non-null  object\n",
      " 10  PrazoAtendimento                      11498 non-null  object\n",
      " 11  OrigemSolicitacao                     11498 non-null  object\n",
      " 12  TipoRecurso                           11498 non-null  object\n",
      " 13  DataResposta                          11498 non-null  object\n",
      " 14  TipoResposta                          11495 non-null  object\n",
      " 15  IdRecursoPrecedente                   3748 non-null   object\n",
      " 16  OrgaoSuperiorAssociadoaoDestinatario  5412 non-null   object\n",
      " 17  id_ano                                11498 non-null  object\n",
      "dtypes: object(18)\n",
      "memory usage: 1.6+ MB\n"
     ]
    }
   ],
   "source": [
    "for file_name in recursos_xml_2019:\n",
    "    f = open(file_name, 'r', encoding='utf-16')\n",
    "\n",
    "xml_data = f.read()\n",
    "xml_data = xml_data.replace('&','')\n",
    "\n",
    "root = ET.XML(xml_data)\n",
    "recursos = []\n",
    "for obj in list(root):\n",
    "    recursos.append(obj.attrib)\n",
    "    \n",
    "df_2019_recursos = pandas.DataFrame(recursos)\n",
    "df_2019_recursos['id_ano']= df_2019_recursos['IdPedido']+'_2019'\n",
    "df_2019_recursos.info()"
   ]
  },
  {
   "cell_type": "code",
   "execution_count": null,
   "metadata": {},
   "outputs": [],
   "source": []
  },
  {
   "cell_type": "markdown",
   "metadata": {},
   "source": [
    "### Recursos - 2020"
   ]
  },
  {
   "cell_type": "code",
   "execution_count": 24,
   "metadata": {},
   "outputs": [
    {
     "name": "stdout",
     "output_type": "stream",
     "text": [
      "<class 'pandas.core.frame.DataFrame'>\n",
      "RangeIndex: 6982 entries, 0 to 6981\n",
      "Data columns (total 18 columns):\n",
      " #   Column                                Non-Null Count  Dtype \n",
      "---  ------                                --------------  ----- \n",
      " 0   IdRecurso                             6982 non-null   object\n",
      " 1   DescRecurso                           6982 non-null   object\n",
      " 2   RespostaRecurso                       6982 non-null   object\n",
      " 3   IdPedido                              6982 non-null   object\n",
      " 4   IdSolicitante                         6982 non-null   object\n",
      " 5   ProtocoloPedido                       6982 non-null   object\n",
      " 6   OrgaoDestinatario                     6982 non-null   object\n",
      " 7   Instancia                             6982 non-null   object\n",
      " 8   Situacao                              6982 non-null   object\n",
      " 9   DataRegistro                          6982 non-null   object\n",
      " 10  PrazoAtendimento                      6982 non-null   object\n",
      " 11  OrigemSolicitacao                     6982 non-null   object\n",
      " 12  TipoRecurso                           6982 non-null   object\n",
      " 13  DataResposta                          6982 non-null   object\n",
      " 14  TipoResposta                          6982 non-null   object\n",
      " 15  IdRecursoPrecedente                   1765 non-null   object\n",
      " 16  OrgaoSuperiorAssociadoaoDestinatario  3220 non-null   object\n",
      " 17  id_ano                                6982 non-null   object\n",
      "dtypes: object(18)\n",
      "memory usage: 982.0+ KB\n"
     ]
    }
   ],
   "source": [
    "for file_name in recursos_xml_2020:\n",
    "    f = open(file_name, 'r', encoding='utf-16')\n",
    "\n",
    "xml_data = f.read()\n",
    "xml_data = xml_data.replace('&','')\n",
    "\n",
    "root = ET.XML(xml_data)\n",
    "recursos = []\n",
    "for obj in list(root):\n",
    "    recursos.append(obj.attrib)\n",
    "    \n",
    "df_2020_recursos = pandas.DataFrame(recursos)\n",
    "df_2020_recursos['id_ano']= df_2020_recursos['IdPedido']+'_2020'\n",
    "df_2020_recursos.info()"
   ]
  },
  {
   "cell_type": "code",
   "execution_count": null,
   "metadata": {},
   "outputs": [],
   "source": []
  },
  {
   "cell_type": "markdown",
   "metadata": {},
   "source": [
    "### `xml` to `csv` para Recursos"
   ]
  },
  {
   "cell_type": "code",
   "execution_count": 25,
   "metadata": {},
   "outputs": [],
   "source": [
    "frames = [df_2016_recursos, df_2017_recursos, df_2018_recursos, df_2019_recursos, df_2020_recursos]"
   ]
  },
  {
   "cell_type": "code",
   "execution_count": 26,
   "metadata": {},
   "outputs": [],
   "source": [
    "df_total_recursos = pandas.concat(frames)"
   ]
  },
  {
   "cell_type": "code",
   "execution_count": 27,
   "metadata": {},
   "outputs": [
    {
     "name": "stdout",
     "output_type": "stream",
     "text": [
      "<class 'pandas.core.frame.DataFrame'>\n",
      "Int64Index: 46918 entries, 0 to 6981\n",
      "Data columns (total 18 columns):\n",
      " #   Column                                Non-Null Count  Dtype \n",
      "---  ------                                --------------  ----- \n",
      " 0   IdRecurso                             46918 non-null  object\n",
      " 1   DescRecurso                           46918 non-null  object\n",
      " 2   RespostaRecurso                       46918 non-null  object\n",
      " 3   IdPedido                              46918 non-null  object\n",
      " 4   IdSolicitante                         46918 non-null  object\n",
      " 5   ProtocoloPedido                       46918 non-null  object\n",
      " 6   OrgaoDestinatario                     46918 non-null  object\n",
      " 7   Instancia                             46918 non-null  object\n",
      " 8   Situacao                              46918 non-null  object\n",
      " 9   DataRegistro                          46918 non-null  object\n",
      " 10  PrazoAtendimento                      46120 non-null  object\n",
      " 11  OrigemSolicitacao                     46918 non-null  object\n",
      " 12  TipoRecurso                           46918 non-null  object\n",
      " 13  DataResposta                          46918 non-null  object\n",
      " 14  TipoResposta                          46909 non-null  object\n",
      " 15  IdRecursoPrecedente                   14892 non-null  object\n",
      " 16  OrgaoSuperiorAssociadoaoDestinatario  21069 non-null  object\n",
      " 17  id_ano                                46918 non-null  object\n",
      "dtypes: object(18)\n",
      "memory usage: 6.8+ MB\n"
     ]
    }
   ],
   "source": [
    "df_total_recursos.info()"
   ]
  },
  {
   "cell_type": "code",
   "execution_count": null,
   "metadata": {},
   "outputs": [],
   "source": []
  },
  {
   "cell_type": "code",
   "execution_count": 28,
   "metadata": {},
   "outputs": [],
   "source": [
    "df_total_recursos.to_csv(\"../data-raw/recursos_cgu.csv\", index=False)"
   ]
  },
  {
   "cell_type": "code",
   "execution_count": null,
   "metadata": {},
   "outputs": [],
   "source": []
  },
  {
   "cell_type": "markdown",
   "metadata": {},
   "source": [
    "### Carrega Total - Recursos"
   ]
  },
  {
   "cell_type": "code",
   "execution_count": 30,
   "metadata": {},
   "outputs": [],
   "source": [
    "kwargs = {'sep': ',', 'dtype': str, 'encoding': 'utf-8'}\n",
    "df_total_recursos = pandas.read_csv(\"../data-raw/recursos_cgu.csv\", **kwargs)"
   ]
  },
  {
   "cell_type": "code",
   "execution_count": 31,
   "metadata": {},
   "outputs": [
    {
     "name": "stdout",
     "output_type": "stream",
     "text": [
      "<class 'pandas.core.frame.DataFrame'>\n",
      "RangeIndex: 46918 entries, 0 to 46917\n",
      "Data columns (total 18 columns):\n",
      " #   Column                                Non-Null Count  Dtype \n",
      "---  ------                                --------------  ----- \n",
      " 0   IdRecurso                             46918 non-null  object\n",
      " 1   DescRecurso                           46917 non-null  object\n",
      " 2   RespostaRecurso                       46914 non-null  object\n",
      " 3   IdPedido                              46918 non-null  object\n",
      " 4   IdSolicitante                         46918 non-null  object\n",
      " 5   ProtocoloPedido                       46918 non-null  object\n",
      " 6   OrgaoDestinatario                     46918 non-null  object\n",
      " 7   Instancia                             46918 non-null  object\n",
      " 8   Situacao                              46918 non-null  object\n",
      " 9   DataRegistro                          46918 non-null  object\n",
      " 10  PrazoAtendimento                      46120 non-null  object\n",
      " 11  OrigemSolicitacao                     46918 non-null  object\n",
      " 12  TipoRecurso                           46918 non-null  object\n",
      " 13  DataResposta                          46918 non-null  object\n",
      " 14  TipoResposta                          46909 non-null  object\n",
      " 15  IdRecursoPrecedente                   14892 non-null  object\n",
      " 16  OrgaoSuperiorAssociadoaoDestinatario  21069 non-null  object\n",
      " 17  id_ano                                46918 non-null  object\n",
      "dtypes: object(18)\n",
      "memory usage: 6.4+ MB\n"
     ]
    }
   ],
   "source": [
    "df_total_recursos.info()"
   ]
  },
  {
   "cell_type": "code",
   "execution_count": null,
   "metadata": {},
   "outputs": [],
   "source": []
  }
 ],
 "metadata": {
  "kernelspec": {
   "display_name": "Python 3",
   "language": "python",
   "name": "python3"
  },
  "language_info": {
   "codemirror_mode": {
    "name": "ipython",
    "version": 3
   },
   "file_extension": ".py",
   "mimetype": "text/x-python",
   "name": "python",
   "nbconvert_exporter": "python",
   "pygments_lexer": "ipython3",
   "version": "3.8.3"
  }
 },
 "nbformat": 4,
 "nbformat_minor": 4
}
